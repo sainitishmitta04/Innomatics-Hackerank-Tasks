{
 "cells": [
  {
   "cell_type": "markdown",
   "id": "11a42e65",
   "metadata": {},
   "source": [
    "## List Comprehensions"
   ]
  },
  {
   "cell_type": "code",
   "execution_count": null,
   "id": "e8de0fc0",
   "metadata": {},
   "outputs": [],
   "source": [
    "x = int(input())\n",
    "y = int(input())\n",
    "z = int(input())\n",
    "n = int(input())\n",
    "\n",
    "l = [[i,j,k] for i in range(x+1) for j in range(y+1) for k in range(z+1)  if i+j+k !=n]\n",
    "print(l)\n"
   ]
  },
  {
   "cell_type": "markdown",
   "id": "11cce888",
   "metadata": {},
   "source": [
    "## Find the Runner-Up Score!"
   ]
  },
  {
   "cell_type": "code",
   "execution_count": 1,
   "id": "cbc2c23c",
   "metadata": {},
   "outputs": [
    {
     "name": "stdout",
     "output_type": "stream",
     "text": [
      "5\n",
      "2 3 6 6 5\n",
      "5\n"
     ]
    }
   ],
   "source": [
    "n = int(input())\n",
    "k = list(map(int,input().split()))\n",
    "w = max(k)\n",
    "k = [x for x in k if x!=w]\n",
    "print(max(k))"
   ]
  },
  {
   "cell_type": "markdown",
   "id": "c36dc06f",
   "metadata": {},
   "source": [
    "## Nested Lists"
   ]
  },
  {
   "cell_type": "code",
   "execution_count": null,
   "id": "a2666649",
   "metadata": {},
   "outputs": [],
   "source": [
    "n = int(input())\n",
    "l = []\n",
    "for i in range(n):\n",
    "    \n",
    "    name = input()\n",
    "    score = float(input())\n",
    "    l.append([name,score])\n",
    "    \n",
    "l.sort(key=lambda x: x[1])\n",
    "\n",
    "\n",
    "second_lowest_score = sorted(list(set([score for name, score in l])))[1]\n",
    "\n",
    "for name, score in sorted(l):\n",
    "    if score == second_lowest_score:\n",
    "        print(name)"
   ]
  },
  {
   "cell_type": "markdown",
   "id": "904fd9fb",
   "metadata": {},
   "source": [
    "## Finding the percentage"
   ]
  },
  {
   "cell_type": "code",
   "execution_count": null,
   "id": "aa7c4609",
   "metadata": {},
   "outputs": [],
   "source": [
    "n = int(input())\n",
    "m = {}\n",
    "for i in range(n):\n",
    "    ip = input().split()\n",
    "    name = ip[0]\n",
    "    m[name] = [float(x) for x in ip[1:]]\n",
    "name = input()\n",
    "average_marks = sum(m[name]) / len(m[name])\n",
    "print(\"{:.2f}\".format(average_marks))\n"
   ]
  },
  {
   "cell_type": "markdown",
   "id": "7453503e",
   "metadata": {},
   "source": [
    "##  Lists"
   ]
  },
  {
   "cell_type": "code",
   "execution_count": null,
   "id": "3b55e5d3",
   "metadata": {},
   "outputs": [],
   "source": [
    "n = int(input())\n",
    "l = []\n",
    "for i in range(n):\n",
    "    operation,*params = input().split()\n",
    "    if operation == \"insert\":\n",
    "        index,value = map(int,params)\n",
    "        l.insert(index,value)\n",
    "    elif operation == \"remove\":\n",
    "        value = int(params[0])\n",
    "        l.remove(value)\n",
    "    elif operation == \"append\":\n",
    "        value = int(params[0])\n",
    "        l.append(value)\n",
    "    elif operation == \"pop\":\n",
    "        l.pop()\n",
    "    elif operation == \"sort\":\n",
    "        l.sort()\n",
    "    elif operation == \"reverse\":\n",
    "        l.reverse()\n",
    "    elif operation == \"print\":\n",
    "        print(l)\n",
    "        \n"
   ]
  },
  {
   "cell_type": "markdown",
   "id": "19372ac8",
   "metadata": {},
   "source": [
    "##  Tuples"
   ]
  },
  {
   "cell_type": "code",
   "execution_count": null,
   "id": "592f45d1",
   "metadata": {},
   "outputs": [],
   "source": [
    "n = int(input())\n",
    "integer_list = map(int, input().split())\n",
    "print(hash(tuple(integer_list))) \n"
   ]
  },
  {
   "cell_type": "markdown",
   "id": "2e48bf68",
   "metadata": {},
   "source": [
    "## Introduction to Sets"
   ]
  },
  {
   "cell_type": "code",
   "execution_count": null,
   "id": "a94e62d9",
   "metadata": {},
   "outputs": [],
   "source": [
    "def average(array):\n",
    "    return (sum(set(arr)))/len(set(arr))\n",
    "\n",
    "\n",
    "if __name__ == '__main__':\n",
    "    n = int(input())\n",
    "    arr = list(map(int, input().split()))\n",
    "    result = average(arr)\n",
    "    print(result)"
   ]
  },
  {
   "cell_type": "markdown",
   "id": "f3843c02",
   "metadata": {},
   "source": [
    "## No Idea!"
   ]
  },
  {
   "cell_type": "code",
   "execution_count": null,
   "id": "20a0fbe3",
   "metadata": {},
   "outputs": [],
   "source": [
    "n, m = map(int, input().split())\n",
    "arr = list(map(int, input().split()))\n",
    "A = set(map(int, input().split()))\n",
    "B = set(map(int, input().split()))\n",
    "\n",
    "happiness = 0\n",
    "for x in arr:\n",
    "    if x in A:\n",
    "        happiness += 1\n",
    "    elif x in B:\n",
    "        happiness -= 1\n",
    "\n",
    "print(happiness)"
   ]
  },
  {
   "cell_type": "markdown",
   "id": "9f5a4b12",
   "metadata": {},
   "source": [
    "## Symmetric Difference"
   ]
  },
  {
   "cell_type": "code",
   "execution_count": null,
   "id": "0e65d3b1",
   "metadata": {},
   "outputs": [],
   "source": [
    "m = int(input())\n",
    "a = set(map(int,input().split()))\n",
    "n = int(input())\n",
    "b = set(map(int,input().split()))\n",
    "\n",
    "# print(a.symmetric_difference_update(b))\n",
    "k = a.symmetric_difference(b)\n",
    "k = sorted(k)\n",
    "for i in k:\n",
    "    print(i)\n"
   ]
  },
  {
   "cell_type": "markdown",
   "id": "9df435ab",
   "metadata": {},
   "source": [
    "## Set .add()"
   ]
  },
  {
   "cell_type": "code",
   "execution_count": null,
   "id": "685262d1",
   "metadata": {},
   "outputs": [],
   "source": [
    "lst = []\n",
    "n = int(input())\n",
    "for i in range(0, n):\n",
    "    ele = input()\n",
    "    lst.append(ele) \n",
    "# print(lst)\n",
    "print(len(set(lst)))\n"
   ]
  },
  {
   "cell_type": "markdown",
   "id": "4530c5f3",
   "metadata": {},
   "source": [
    "## Set .discard(), .remove() & .pop()"
   ]
  },
  {
   "cell_type": "code",
   "execution_count": null,
   "id": "3bbdfc15",
   "metadata": {},
   "outputs": [],
   "source": [
    "n = int(input())\n",
    "s = set(map(int, input().split()))\n",
    "n2 = int(input())\n",
    "for i in range(n2):\n",
    "    op,*params = input().split()\n",
    "    if op=='pop':\n",
    "        s.pop()\n",
    "    elif op=='remove':\n",
    "        val = int(*params)\n",
    "        s.remove(val)\n",
    "    elif op=='discard':\n",
    "        val = int(*params)\n",
    "        s.discard(val)\n",
    "print(sum(s))"
   ]
  },
  {
   "cell_type": "markdown",
   "id": "9d9aa0a6",
   "metadata": {},
   "source": [
    "## Set .union() Operation"
   ]
  },
  {
   "cell_type": "code",
   "execution_count": null,
   "id": "bda7778c",
   "metadata": {},
   "outputs": [],
   "source": [
    "n = int(input())\n",
    "s = set(map(int,input().split()))\n",
    "b = int(input())\n",
    "r = set(map(int,input().split()))\n",
    "    \n",
    "t = s.union(r)\n",
    "print(len(t))\n"
   ]
  },
  {
   "cell_type": "markdown",
   "id": "26ba6e28",
   "metadata": {},
   "source": [
    "## Set .intersection() Operation"
   ]
  },
  {
   "cell_type": "code",
   "execution_count": null,
   "id": "f6cbe3be",
   "metadata": {},
   "outputs": [],
   "source": [
    "m = int(input())\n",
    "a = set(map(int,input().split()))\n",
    "n = int(input())\n",
    "b = set(map(int,input().split()))\n",
    "\n",
    "print(len(a.intersection(b)))\n"
   ]
  },
  {
   "cell_type": "markdown",
   "id": "4a73ea13",
   "metadata": {},
   "source": [
    "## Set .difference() Operation"
   ]
  },
  {
   "cell_type": "code",
   "execution_count": null,
   "id": "9a299e7f",
   "metadata": {},
   "outputs": [],
   "source": [
    "m = int(input())\n",
    "a = set(map(int,input().split()))\n",
    "n = int(input())\n",
    "b = set(map(int,input().split()))\n",
    "\n",
    "print(len(a.difference(b)))\n"
   ]
  },
  {
   "cell_type": "markdown",
   "id": "a2ba1838",
   "metadata": {},
   "source": [
    "## Set .symmetric_difference() Operation"
   ]
  },
  {
   "cell_type": "code",
   "execution_count": null,
   "id": "d989acb2",
   "metadata": {},
   "outputs": [],
   "source": [
    "m = int(input())\n",
    "a = set(map(int,input().split()))\n",
    "n = int(input())\n",
    "b = set(map(int,input().split()))\n",
    "\n",
    "print(len(a.symmetric_difference(b)))\n"
   ]
  },
  {
   "cell_type": "markdown",
   "id": "42a364c8",
   "metadata": {},
   "source": [
    "## Set Mutations"
   ]
  },
  {
   "cell_type": "code",
   "execution_count": null,
   "id": "af0ef668",
   "metadata": {},
   "outputs": [],
   "source": [
    "n = int(input())\n",
    "A = set(map(int, input().split()))\n",
    "\n",
    "num_ops = int(input())\n",
    "\n",
    "for i in range(num_ops):\n",
    "    op, _ = input().split()\n",
    "    B = set(map(int, input().split()))\n",
    "\n",
    "    if op == 'update':\n",
    "        A |= B\n",
    "    elif op == 'intersection_update':\n",
    "        A &= B\n",
    "    elif op == 'difference_update':\n",
    "        A -= B\n",
    "    elif op == 'symmetric_difference_update':\n",
    "        A ^= B\n",
    "\n",
    "print(sum(A))\n"
   ]
  },
  {
   "cell_type": "markdown",
   "id": "73eeb538",
   "metadata": {},
   "source": [
    "## The Captain's Room"
   ]
  },
  {
   "cell_type": "code",
   "execution_count": null,
   "id": "378b261b",
   "metadata": {},
   "outputs": [],
   "source": [
    "k = int(input())\n",
    "room_list = list(map(int, input().split()))\n",
    "\n",
    "unique_rooms = set(room_list)\n",
    "# print(unique_rooms)\n",
    "captain_room = (sum(unique_rooms) * k - sum(room_list)) // (k - 1)\n",
    "\n",
    "print(captain_room)"
   ]
  },
  {
   "cell_type": "markdown",
   "id": "e7355f85",
   "metadata": {},
   "source": [
    "## Check Subset"
   ]
  },
  {
   "cell_type": "code",
   "execution_count": null,
   "id": "3aa21c13",
   "metadata": {},
   "outputs": [],
   "source": [
    "for _ in range(int(input())):\n",
    "    x, a, z, b = input(), set(input().split()), input(), set(input().split())\n",
    "    print(a.issubset(b))"
   ]
  },
  {
   "cell_type": "markdown",
   "id": "fba3fae7",
   "metadata": {},
   "source": [
    "## Check Strict Superset"
   ]
  },
  {
   "cell_type": "code",
   "execution_count": null,
   "id": "02202a67",
   "metadata": {},
   "outputs": [],
   "source": [
    "def isstrictsuperset(a,b):\n",
    "    return b.issubset(a) and not(a.issubset(b))\n",
    "\n",
    "a = set(int(x) for x in input().split(' '))\n",
    "n = int(input())\n",
    "res = True\n",
    "\n",
    "for _ in range(n):\n",
    "    b = set(int(x) for x in input().split(' '))\n",
    "    res &= isstrictsuperset(a,b)\n",
    "    \n",
    "print(res)"
   ]
  },
  {
   "cell_type": "code",
   "execution_count": null,
   "id": "3143a8f9",
   "metadata": {},
   "outputs": [],
   "source": []
  }
 ],
 "metadata": {
  "kernelspec": {
   "display_name": "Python 3 (ipykernel)",
   "language": "python",
   "name": "python3"
  },
  "language_info": {
   "codemirror_mode": {
    "name": "ipython",
    "version": 3
   },
   "file_extension": ".py",
   "mimetype": "text/x-python",
   "name": "python",
   "nbconvert_exporter": "python",
   "pygments_lexer": "ipython3",
   "version": "3.8.13"
  }
 },
 "nbformat": 4,
 "nbformat_minor": 5
}
