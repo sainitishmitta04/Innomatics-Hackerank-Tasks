{
 "cells": [
  {
   "cell_type": "markdown",
   "id": "dacbcd60",
   "metadata": {},
   "source": [
    "## Polar Coordinates"
   ]
  },
  {
   "cell_type": "code",
   "execution_count": null,
   "id": "eaa159f4",
   "metadata": {},
   "outputs": [],
   "source": [
    "import cmath\n",
    "a = complex(input())\n",
    "print(abs(complex(a.real, a.imag)))\n",
    "print(cmath.phase(complex(a.real, a.imag)))"
   ]
  },
  {
   "cell_type": "markdown",
   "id": "cd6bcde2",
   "metadata": {},
   "source": [
    "## Find Angle MBC"
   ]
  },
  {
   "cell_type": "code",
   "execution_count": null,
   "id": "14892a0b",
   "metadata": {},
   "outputs": [],
   "source": [
    "import math\n",
    "AB = int(input())\n",
    "BC = int(input())\n",
    "\n",
    "\n",
    "angle = round(math.degrees(math.atan2(AB, BC)))\n",
    "print(str(angle)+chr(176))"
   ]
  },
  {
   "cell_type": "markdown",
   "id": "437fbd8a",
   "metadata": {},
   "source": [
    "## Triangle Quest 2"
   ]
  },
  {
   "cell_type": "code",
   "execution_count": null,
   "id": "126878cb",
   "metadata": {},
   "outputs": [],
   "source": [
    "for i in range(1,int(input())+1): \n",
    "    print (((10**i - 1)//9)**2)"
   ]
  },
  {
   "cell_type": "markdown",
   "id": "330864cc",
   "metadata": {},
   "source": [
    "## Mod Divmod"
   ]
  },
  {
   "cell_type": "code",
   "execution_count": null,
   "id": "b8d307eb",
   "metadata": {},
   "outputs": [],
   "source": [
    "a = int(input())\n",
    "b = int(input())\n",
    "print(a//b)\n",
    "print(a%b)\n",
    "print(divmod(a,b))"
   ]
  },
  {
   "cell_type": "markdown",
   "id": "17e44509",
   "metadata": {},
   "source": [
    "## Power - Mod Power"
   ]
  },
  {
   "cell_type": "code",
   "execution_count": null,
   "id": "8791fe22",
   "metadata": {},
   "outputs": [],
   "source": [
    "a = int(input())\n",
    "b = int(input())\n",
    "m = int(input())\n",
    "\n",
    "print(a**b)\n",
    "print(pow(a,b,m))"
   ]
  },
  {
   "cell_type": "markdown",
   "id": "3e97a9de",
   "metadata": {},
   "source": [
    "## Integers Come In All Sizes"
   ]
  },
  {
   "cell_type": "code",
   "execution_count": null,
   "id": "daa423d0",
   "metadata": {},
   "outputs": [],
   "source": [
    "a = int(input())\n",
    "b = int(input())\n",
    "c = int(input())\n",
    "d = int(input())\n",
    "\n",
    "print(pow(a,b) + pow(c,d))"
   ]
  },
  {
   "cell_type": "markdown",
   "id": "52d8a4e1",
   "metadata": {},
   "source": [
    "## Triangle Quest"
   ]
  },
  {
   "cell_type": "code",
   "execution_count": null,
   "id": "e21becde",
   "metadata": {},
   "outputs": [],
   "source": [
    "for i in range(1,int(input())):\n",
    "    print((10**i - 1) // 9 * i)"
   ]
  },
  {
   "cell_type": "code",
   "execution_count": null,
   "id": "98ebc802",
   "metadata": {},
   "outputs": [],
   "source": []
  }
 ],
 "metadata": {
  "kernelspec": {
   "display_name": "Python 3 (ipykernel)",
   "language": "python",
   "name": "python3"
  },
  "language_info": {
   "codemirror_mode": {
    "name": "ipython",
    "version": 3
   },
   "file_extension": ".py",
   "mimetype": "text/x-python",
   "name": "python",
   "nbconvert_exporter": "python",
   "pygments_lexer": "ipython3",
   "version": "3.8.13"
  }
 },
 "nbformat": 4,
 "nbformat_minor": 5
}
